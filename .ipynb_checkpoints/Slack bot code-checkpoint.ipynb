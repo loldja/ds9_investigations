{
 "cells": [
  {
   "cell_type": "code",
   "execution_count": null,
   "metadata": {
    "collapsed": true
   },
   "outputs": [],
   "source": [
    "# Modified from tutorial at https://www.fullstackpython.com/blog/build-first-slack-bot-python.html"
   ]
  },
  {
   "cell_type": "code",
   "execution_count": 1,
   "metadata": {
    "collapsed": true
   },
   "outputs": [],
   "source": [
    "import os\n",
    "from slackclient import SlackClient"
   ]
  },
  {
   "cell_type": "code",
   "execution_count": 3,
   "metadata": {
    "collapsed": false
   },
   "outputs": [
    {
     "name": "stdout",
     "output_type": "stream",
     "text": [
      "could not find bot user with the name lunch_roulette\n"
     ]
    }
   ],
   "source": [
    "BOT_NAME = 'lunch_roulette'\n",
    "\n",
    "slack_client = SlackClient(os.environ.get('SLACK_BOT_TOKEN'))\n",
    "\n",
    "\n",
    "if __name__ == \"__main__\":\n",
    "    api_call = slack_client.api_call(\"users.list\")\n",
    "    if api_call.get('ok'):\n",
    "        # retrieve all users so we can find our bot\n",
    "        users = api_call.get('members')\n",
    "        for user in users:\n",
    "            if 'name' in user and user.get('name') == BOT_NAME:\n",
    "                print(\"Bot ID for '\" + user['name'] + \"' is \" + user.get('id'))\n",
    "    else:\n",
    "        print(\"could not find bot user with the name \" + BOT_NAME)"
   ]
  },
  {
   "cell_type": "markdown",
   "metadata": {},
   "source": [
    "# Coding the Lunch Roulette"
   ]
  },
  {
   "cell_type": "code",
   "execution_count": 16,
   "metadata": {
    "collapsed": true
   },
   "outputs": [],
   "source": [
    "# these are needed for Slack API\n",
    "import os\n",
    "import time\n",
    "from slackclient import SlackClient"
   ]
  },
  {
   "cell_type": "code",
   "execution_count": 87,
   "metadata": {
    "collapsed": false
   },
   "outputs": [],
   "source": [
    "# these are needed for Yelp API\n",
    "import io, json, requests\n",
    "from yelp.client import Client\n",
    "from yelp.oauth1_authenticator import Oauth1Authenticator\n",
    "from collections import Counter\n",
    "\n",
    "# Yelp API call functions\n",
    "def get_search_parameters(lat,lon):\n",
    "    #See the Yelp API for more details\n",
    "    params = {}\n",
    "    params[\"term\"] = \"lunch\"\n",
    "    params[\"ll\"] = \"{},{}\".format(str(lat),str(lon))\n",
    "    params[\"radius_filter\"] = \"450\"\n",
    "    # params[\"limit\"] = \"10\"\n",
    "    print(params)\n",
    "    return params\n",
    "\n",
    "def get_results(client, params):\n",
    "    response = client.search('New York, NY',**params)\n",
    "    #Transforms the JSON API response into a Python dictionary\n",
    "    return response"
   ]
  },
  {
   "cell_type": "code",
   "execution_count": 72,
   "metadata": {
    "collapsed": true
   },
   "outputs": [],
   "source": [
    "import random"
   ]
  },
  {
   "cell_type": "code",
   "execution_count": 88,
   "metadata": {
    "collapsed": false
   },
   "outputs": [],
   "source": [
    "def yelp_call():\n",
    "# read API keys\n",
    "    with io.open('config_secret.json') as cred:\n",
    "        creds = json.load(cred)\n",
    "        session = Oauth1Authenticator(**creds)\n",
    "        client = Client(session)\n",
    "\n",
    "    locations = [(40.744, -73.985)]\n",
    "    api_calls = []\n",
    "\n",
    "    neighborhood_counter = Counter()\n",
    "    for lat,lon in locations:\n",
    "        params = get_search_parameters(lat,lon)\n",
    "        results = client.search_by_coordinates(lat, lon, **params)\n",
    "\n",
    "    lunch = []\n",
    "    \n",
    "    for b in results.businesses:\n",
    "        # business fields: 'categories', 'deals', 'display_phone', 'distance', 'eat24_url', 'gift_certificates', 'id', 'image_url', 'is_claimed', 'is_closed', 'location', 'menu_date_updated', 'menu_provider', 'mobile_url', 'name', 'phone', 'rating', 'rating_img_url', 'rating_img_url_large', 'rating_img_url_small', 'reservation_url', 'review_count', 'reviews', 'snippet_image_url', 'snippet_text', 'url'\n",
    "        d = {}\n",
    "        d[\"name\"] = b.name\n",
    "        d[\"address\"] = b.location.address\n",
    "        d[\"cross_street\"] = b.location.cross_streets\n",
    "        lunch.append(d)\n",
    "        # neighborhood_counter.update(b.location.neighborhoods)\n",
    "        # 'address', 'city', 'coordinate', 'country_code', 'cross_streets', 'display_address', 'geo_accuracy', 'neighborhoods', 'postal_code', 'state_code'\n",
    "    # print(neighborhood_counter)\n",
    "    \n",
    "    return random.choice(lunch)"
   ]
  },
  {
   "cell_type": "code",
   "execution_count": 89,
   "metadata": {
    "collapsed": false
   },
   "outputs": [
    {
     "name": "stdout",
     "output_type": "stream",
     "text": [
      "{'ll': '40.744,-73.985', 'term': 'lunch', 'radius_filter': '450'}\n"
     ]
    }
   ],
   "source": [
    "##Do other Yelp API processing\n",
    "\n",
    "if __name__==\"__main__\":\n",
    "    yelp_call()"
   ]
  },
  {
   "cell_type": "code",
   "execution_count": null,
   "metadata": {
    "collapsed": false
   },
   "outputs": [
    {
     "name": "stdout",
     "output_type": "stream",
     "text": [
      "StarterBot connected and running!\n",
      "{'ll': '40.744,-73.985', 'term': 'lunch', 'radius_filter': '450'}\n"
     ]
    }
   ],
   "source": [
    "# starterbot's ID as an environment variable\n",
    "# BOT_ID = os.environ.get(\"BOT_ID\")\n",
    "BOT_ID = \"U2RJ1M26T\" # from above\n",
    "\n",
    "# constants\n",
    "AT_BOT = \"<@\" + BOT_ID + \">\"\n",
    "EXAMPLE_COMMAND = \"find lunch\"\n",
    "\n",
    "# instantiate Slack & Twilio clients\n",
    "slack_client = SlackClient(os.environ.get('SLACK_BOT_TOKEN'))\n",
    "\n",
    "\n",
    "def handle_command(command, channel):\n",
    "    \"\"\"\n",
    "        Receives commands directed at the bot and determines if they\n",
    "        are valid commands. If so, then acts on the commands. If not,\n",
    "        returns back what it needs for clarification.\n",
    "    \"\"\"\n",
    "    response = \"Not sure what you mean. Type *\" + EXAMPLE_COMMAND + \\\n",
    "               \"* and I'll return lunch spots within walking distance of Metis.\"\n",
    "    if command.startswith(EXAMPLE_COMMAND):\n",
    "        response = yelp_call()\n",
    "    slack_client.api_call(\"chat.postMessage\", channel=channel,\n",
    "                          text=response, as_user=True)\n",
    "\n",
    "\n",
    "def parse_slack_output(slack_rtm_output):\n",
    "    \"\"\"\n",
    "        The Slack Real Time Messaging API is an events firehose.\n",
    "        this parsing function returns None unless a message is\n",
    "        directed at the Bot, based on its ID.\n",
    "    \"\"\"\n",
    "    output_list = slack_rtm_output\n",
    "    if output_list and len(output_list) > 0:\n",
    "        for output in output_list:\n",
    "            if output and 'text' in output and AT_BOT in output['text']:\n",
    "                # return text after the @ mention, whitespace removed\n",
    "                return output['text'].split(AT_BOT)[1].strip().lower(), \\\n",
    "                       output['channel']\n",
    "    return None, None\n",
    "\n",
    "\n",
    "if __name__ == \"__main__\":\n",
    "    READ_WEBSOCKET_DELAY = 1 # 1 second delay between reading from firehose\n",
    "    if slack_client.rtm_connect():\n",
    "        print(\"StarterBot connected and running!\")\n",
    "        while True:\n",
    "            command, channel = parse_slack_output(slack_client.rtm_read())\n",
    "            if command and channel:\n",
    "                handle_command(command, channel)\n",
    "            time.sleep(READ_WEBSOCKET_DELAY)\n",
    "    else:\n",
    "        print(\"Connection failed. Invalid Slack token or bot ID?\")"
   ]
  },
  {
   "cell_type": "code",
   "execution_count": null,
   "metadata": {
    "collapsed": true
   },
   "outputs": [],
   "source": []
  }
 ],
 "metadata": {
  "anaconda-cloud": {},
  "kernelspec": {
   "display_name": "Python [conda env:starterbot]",
   "language": "python",
   "name": "conda-env-starterbot-py"
  },
  "language_info": {
   "codemirror_mode": {
    "name": "ipython",
    "version": 3
   },
   "file_extension": ".py",
   "mimetype": "text/x-python",
   "name": "python",
   "nbconvert_exporter": "python",
   "pygments_lexer": "ipython3",
   "version": "3.5.2"
  }
 },
 "nbformat": 4,
 "nbformat_minor": 1
}
